{
 "cells": [
  {
   "cell_type": "code",
   "execution_count": 1,
   "metadata": {},
   "outputs": [],
   "source": [
    "import selenium.webdriver as wb\n",
    "import time,string,os,sys\n",
    "from selenium.webdriver.common.keys import Keys\n",
    "\n"
   ]
  },
  {
   "cell_type": "code",
   "execution_count": 22,
   "metadata": {},
   "outputs": [],
   "source": [
    "alpha_profiles = []\n",
    "pr = ['2249498416','118355661537061','243796592725192','251560641854558']\n",
    "\n",
    "for p in pr:\n",
    "    for a in string.ascii_lowercase:\n",
    "        try:\n",
    "            alpha_profiles.extend(open('facebook_scraper/{}_{}'.format(p,a)+'.txt','r').read().split('\\n')[:-1])\n",
    "        except:\n",
    "            pass\n",
    "\n",
    "unique_pr = set(alpha_profiles)\n",
    "\n",
    "len(unique_pr)\n",
    "\n",
    "open('final_profiles_1.txt','w').write('\\n'.join(unique_pr))"
   ]
  },
  {
   "cell_type": "markdown",
   "metadata": {},
   "source": [
    "Exploring the features"
   ]
  },
  {
   "cell_type": "code",
   "execution_count": 1,
   "metadata": {},
   "outputs": [],
   "source": [
    "data = open('facebook_scraper/final_profiles_1.txt','r').read().split('\\n')[:-1]"
   ]
  },
  {
   "cell_type": "code",
   "execution_count": 7,
   "metadata": {},
   "outputs": [],
   "source": [
    "import selenium.webdriver as wb\n",
    "import time,string,os,sys,itertools\n",
    "from selenium.webdriver.common.keys import Keys\n",
    "\n",
    "driver = wb.Chrome()"
   ]
  },
  {
   "cell_type": "code",
   "execution_count": 8,
   "metadata": {},
   "outputs": [],
   "source": [
    "driver.get('https://www.facebook.com')\n",
    "driver.find_element_by_id('email').send_keys('pops1234567890@rediffmail.com')\n",
    "driver.find_element_by_id('pass').send_keys('vaqai12')\n",
    "driver.find_element_by_xpath(\"//input[@value='Log In']\").click()\n"
   ]
  },
  {
   "cell_type": "code",
   "execution_count": 14,
   "metadata": {},
   "outputs": [],
   "source": [
    "import pandas as pd\n",
    "\n",
    "df = pd.DataFrame(columns=['name', 'profile_url', 'location','contact','work','edu','basic_info'])\n",
    "\n",
    "\n",
    "def fetch_contact(driver):\n",
    "    \n",
    "    wb.ActionChains(driver).send_keys(Keys.ESCAPE).perform()\n",
    "    driver.find_element_by_partial_link_text('Contact and basic').click()\n",
    "    \n",
    "    time.sleep(2.1)\n",
    "    \n",
    "    contact,info = '',''\n",
    "    basic_info = driver.find_elements_by_xpath(\"//div/ul/li\")\n",
    "\n",
    "\n",
    "    for i in basic_info:\n",
    "        if('\\nLife events\\nCONTACT INFORMATION\\n' in i.text):\n",
    "            n = i.text.split('\\nLife events\\n')[1]\n",
    "\n",
    "            #con = n.split('\\nBASIC INFORMATION')[0].split('\\n')[1:]\n",
    "            contact = dict(itertools.zip_longest(*[iter(n.split('\\nBASIC INFORMATION')[0].split('\\n')[1:])] * 2, fillvalue=\"\"))\n",
    "\n",
    "            #inf = n.split('\\nBASIC INFORMATION\\n')[1].split('\\n') \n",
    "            info = dict(itertools.zip_longest(*[iter(n.split('\\nBASIC INFORMATION\\n')[1].split('\\n'))] * 2, fillvalue=\"\"))\n",
    "\n",
    "    return(contact,info)\n",
    "\n",
    "\n",
    "\n",
    "def fetch_work(driver):\n",
    "    \n",
    "    \n",
    "    wb.ActionChains(driver).send_keys(Keys.ESCAPE).perform()\n",
    "    driver.find_element_by_partial_link_text('Work and edu').click()\n",
    "    \n",
    "    time.sleep(2.1)\n",
    "    \n",
    "    \n",
    "    basic_info = driver.find_elements_by_xpath(\"//div/ul/li\")\n",
    "\n",
    "    edu,work = '',''\n",
    "\n",
    "    for i in basic_info:\n",
    "        if('\\nEDUCATION\\n' in i.text):\n",
    "                \n",
    "            n = i.text.split('\\nLife events\\n')[1].split('\\nEDUCATION')\n",
    "\n",
    "            #con = n.split('\\nBASIC INFORMATION')[0].split('\\n')[1:]\n",
    "            work = ' '.join(n[0].split('\\n')[1:])\n",
    "\n",
    "            if(len(n)>1):\n",
    "                #inf = n.split('\\nBASIC INFORMATION\\n')[1].split('\\n') \n",
    "                edu = ''.join(n[1].split('\\n'))\n",
    "\n",
    "    return(edu,work)\n",
    "\n",
    "\n",
    "\n",
    "def fetch_city(driver):\n",
    "    \n",
    "    \n",
    "    driver.execute_script(\"scroll(0, 400);\")\n",
    "    time.sleep(2)\n",
    "    \n",
    "    wb.ActionChains(driver).send_keys(Keys.ESCAPE).perform()\n",
    "\n",
    "    driver.find_element_by_partial_link_text('Places').click()\n",
    "    \n",
    "    time.sleep(2.1)\n",
    "    basic_info = driver.find_elements_by_xpath(\"//div/ul/li\")\n",
    "    \n",
    "    n = 0\n",
    "    for i in basic_info:\n",
    "        if(\"\\nPlaces He's Lived\\nContact and basic info\\n\" in i.text):\n",
    "            n = i.text.split('CURRENT CITY AND HOME TOWN\\n')[1].split('\\n')[0]\n",
    "\n",
    "    return(n)"
   ]
  },
  {
   "cell_type": "code",
   "execution_count": null,
   "metadata": {
    "scrolled": true
   },
   "outputs": [
    {
     "name": "stdout",
     "output_type": "stream",
     "text": [
      "added \n",
      "added \n",
      "added \n",
      "added \n",
      "added \n",
      "added \n",
      "added \n",
      "added \n",
      "added \n",
      "added \n",
      "added \n",
      "added \n",
      "added \n",
      "added \n",
      "added \n",
      "added \n"
     ]
    }
   ],
   "source": [
    "for i in range(7,len(data)):\n",
    "    try:\n",
    "        driver.get(data[i])\n",
    "\n",
    "        wb.ActionChains(driver).send_keys(Keys.ESCAPE).perform()\n",
    "        ##click about section\n",
    "        driver.find_element_by_xpath(\"//a[@data-tab-key='about']\").click()\n",
    "\n",
    "        name = driver.find_element_by_xpath(\"//span[@data-testid='profile_name_in_profile_page']\").text\n",
    "        time.sleep(9)\n",
    "\n",
    "        loc = fetch_city(driver)\n",
    "        contact,info = fetch_contact(driver)\n",
    "        edu,work = fetch_work(driver)\n",
    "\n",
    "        df.loc[i] = [name,data[i],loc,contact,work,edu,info]\n",
    "        print('added ')\n",
    "        open('profile_data.txt','a',encoding='utf-8').write('{},{},{},{},{},{},{}\\n'.format(name,data[i],loc,contact,work,edu,info))\n",
    "\n",
    "    except Exception as e:\n",
    "        print(e)\n",
    "        open('error_profile_data.txt','a').write(data[i]+'\\n')"
   ]
  },
  {
   "cell_type": "code",
   "execution_count": 190,
   "metadata": {},
   "outputs": [
    {
     "data": {
      "text/plain": [
       "[0, 2, 3, 4, 5, 6, 7, 8, 9, 10, 11, 12, 13, 14, 15]"
      ]
     },
     "execution_count": 190,
     "metadata": {},
     "output_type": "execute_result"
    }
   ],
   "source": [
    "sorted(df.index)"
   ]
  },
  {
   "cell_type": "code",
   "execution_count": 90,
   "metadata": {},
   "outputs": [
    {
     "data": {
      "text/plain": [
       "'Nabeul'"
      ]
     },
     "execution_count": 90,
     "metadata": {},
     "output_type": "execute_result"
    }
   ],
   "source": [
    "n"
   ]
  },
  {
   "cell_type": "code",
   "execution_count": 134,
   "metadata": {},
   "outputs": [],
   "source": [
    "basic_info = driver.find_elements_by_xpath(\"//div/ul/li\")\n",
    "\n",
    "n = []\n",
    "for i in basic_info:\n",
    "#     if(\"\\nPlaces He's Lived\\nContact and basic info\\n\" in i.text):\n",
    "#         n = i.text.split('Current city\\n')[1].split('\\n')[0]\n",
    "       n.append(i.text)"
   ]
  },
  {
   "cell_type": "code",
   "execution_count": 144,
   "metadata": {},
   "outputs": [
    {
     "data": {
      "text/plain": [
       "'Arun Kumar\\n(Prajapati)'"
      ]
     },
     "execution_count": 144,
     "metadata": {},
     "output_type": "execute_result"
    }
   ],
   "source": [
    "driver.find_element_by_xpath(\"//span[@data-testid='profile_name_in_profile_page']\").text"
   ]
  },
  {
   "cell_type": "code",
   "execution_count": 12,
   "metadata": {},
   "outputs": [],
   "source": []
  },
  {
   "cell_type": "code",
   "execution_count": 150,
   "metadata": {},
   "outputs": [],
   "source": [
    "df.loc[0] = ['name','asdas','asdas','asda','asdasd',{'asda':90},[2,4]]"
   ]
  },
  {
   "cell_type": "code",
   "execution_count": 151,
   "metadata": {},
   "outputs": [
    {
     "data": {
      "text/html": [
       "<div>\n",
       "<style scoped>\n",
       "    .dataframe tbody tr th:only-of-type {\n",
       "        vertical-align: middle;\n",
       "    }\n",
       "\n",
       "    .dataframe tbody tr th {\n",
       "        vertical-align: top;\n",
       "    }\n",
       "\n",
       "    .dataframe thead th {\n",
       "        text-align: right;\n",
       "    }\n",
       "</style>\n",
       "<table border=\"1\" class=\"dataframe\">\n",
       "  <thead>\n",
       "    <tr style=\"text-align: right;\">\n",
       "      <th></th>\n",
       "      <th>name</th>\n",
       "      <th>profile_url</th>\n",
       "      <th>location</th>\n",
       "      <th>contact</th>\n",
       "      <th>work</th>\n",
       "      <th>edu</th>\n",
       "      <th>basic_info</th>\n",
       "    </tr>\n",
       "  </thead>\n",
       "  <tbody>\n",
       "    <tr>\n",
       "      <th>0</th>\n",
       "      <td>name</td>\n",
       "      <td>asdas</td>\n",
       "      <td>asdas</td>\n",
       "      <td>asda</td>\n",
       "      <td>asdasd</td>\n",
       "      <td>{'asda': 90}</td>\n",
       "      <td>[2, 4]</td>\n",
       "    </tr>\n",
       "  </tbody>\n",
       "</table>\n",
       "</div>"
      ],
      "text/plain": [
       "   name profile_url location contact    work           edu basic_info\n",
       "0  name       asdas    asdas    asda  asdasd  {'asda': 90}     [2, 4]"
      ]
     },
     "execution_count": 151,
     "metadata": {},
     "output_type": "execute_result"
    }
   ],
   "source": [
    "df"
   ]
  },
  {
   "cell_type": "code",
   "execution_count": null,
   "metadata": {},
   "outputs": [],
   "source": []
  }
 ],
 "metadata": {
  "kernelspec": {
   "display_name": "Python 3",
   "language": "python",
   "name": "python3"
  },
  "language_info": {
   "codemirror_mode": {
    "name": "ipython",
    "version": 3
   },
   "file_extension": ".py",
   "mimetype": "text/x-python",
   "name": "python",
   "nbconvert_exporter": "python",
   "pygments_lexer": "ipython3",
   "version": "3.6.5"
  }
 },
 "nbformat": 4,
 "nbformat_minor": 2
}
