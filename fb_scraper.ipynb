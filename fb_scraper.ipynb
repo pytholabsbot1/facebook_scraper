{
 "cells": [
  {
   "cell_type": "code",
   "execution_count": 4,
   "metadata": {},
   "outputs": [
    {
     "name": "stdout",
     "output_type": "stream",
     "text": [
      "got 118355661537061 -- a\n",
      "got 118355661537061 -- b\n",
      "got 118355661537061 -- c\n",
      "got 118355661537061 -- d\n",
      "got 118355661537061 -- e\n",
      "got 118355661537061 -- f\n",
      "got 118355661537061 -- g\n",
      "got 118355661537061 -- h\n",
      "got 118355661537061 -- i\n",
      "got 118355661537061 -- j\n",
      "got 118355661537061 -- k\n",
      "got 118355661537061 -- l\n",
      "got 118355661537061 -- m\n",
      "got 118355661537061 -- n\n",
      "got 118355661537061 -- o\n",
      "got 118355661537061 -- p\n",
      "reloading at q\n",
      "got 118355661537061 -- r\n",
      "got 118355661537061 -- s\n",
      "got 118355661537061 -- t\n",
      "got 118355661537061 -- u\n",
      "got 118355661537061 -- v\n",
      "got 118355661537061 -- w\n",
      "reloading at x\n",
      "got 118355661537061 -- y\n",
      "got 118355661537061 -- z\n"
     ]
    }
   ],
   "source": [
    "import selenium.webdriver as wb\n",
    "import time,string\n",
    "from selenium.webdriver.common.keys import Keys\n",
    "\n",
    "\n",
    "driver = wb.Chrome()\n",
    "groups = ['118355661537061']\n",
    "\n",
    "\n",
    "driver.get('https://www.facebook.com')\n",
    "driver.find_element_by_id('email').send_keys('pops1234567890@rediffmail.com')\n",
    "driver.find_element_by_id('pass').send_keys('vaqai12')\n",
    "driver.find_element_by_xpath(\"//input[@value='Log In']\").click()\n",
    "\n",
    "\n",
    "#driver.get('https://www.facebook.com/search/str/python+developers/keywords_groups')\n",
    "\n",
    "\n",
    "for gr in groups:\n",
    "    driver.get('https://www.facebook.com/groups/{}/members/'.format(gr))\n",
    "    wb.ActionChains(driver).send_keys(Keys.ESCAPE).perform()\n",
    "    \n",
    "    for alpha in string.ascii_lowercase:\n",
    "        \n",
    "        try:\n",
    "            wb.ActionChains(driver).send_keys(Keys.ESCAPE).perform()\n",
    "            ##get members with alpha names\n",
    "            time.sleep(6)\n",
    "            driver.find_element_by_class_name('_58al').send_keys(alpha)\n",
    "\n",
    "            ##click show more\n",
    "\n",
    "            time.sleep(6)\n",
    "            driver.find_element_by_xpath(\"//a[@href='/groups/members/tab/search/?group_id={}&search_keyword={}&group_view=members&see_all=1']\".format(gr,alpha)).click()\n",
    "            time.sleep(9)\n",
    "\n",
    "\n",
    "            for i in driver.find_elements_by_xpath(\"//div[@class='_60ri']/a\"):\n",
    "                profile = i.get_attribute('href')\n",
    "                open('facebook_scraper/{}_{}.txt'.format(gr,alpha),'a').write(profile+'\\n')\n",
    "\n",
    "            print('got '+gr+' -- '+alpha)\n",
    "            driver.execute_script(\"scroll(0, 0);\")\n",
    "\n",
    "            time.sleep(1.5)\n",
    "            wb.ActionChains(driver).send_keys(Keys.ESCAPE).perform()\n",
    "\n",
    "            clr = driver.find_element_by_css_selector(\".\\_357w\")\n",
    "            clr.click()\n",
    "\n",
    "        except:\n",
    "            print('reloading at '+alpha)\n",
    "            driver.get('https://www.facebook.com/groups/{}/members/'.format(gr))\n",
    "        \n"
   ]
  },
  {
   "cell_type": "code",
   "execution_count": null,
   "metadata": {},
   "outputs": [],
   "source": []
  }
 ],
 "metadata": {
  "kernelspec": {
   "display_name": "Python 3",
   "language": "python",
   "name": "python3"
  },
  "language_info": {
   "codemirror_mode": {
    "name": "ipython",
    "version": 3
   },
   "file_extension": ".py",
   "mimetype": "text/x-python",
   "name": "python",
   "nbconvert_exporter": "python",
   "pygments_lexer": "ipython3",
   "version": "3.6.5"
  }
 },
 "nbformat": 4,
 "nbformat_minor": 2
}
